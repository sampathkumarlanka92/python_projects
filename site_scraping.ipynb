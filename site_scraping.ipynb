{
 "cells": [
  {
   "cell_type": "markdown",
   "id": "6b02b26f-f359-48ad-89a8-4ad7989b5cf5",
   "metadata": {
    "tags": []
   },
   "source": [
    "# Amazon Web Scraper"
   ]
  },
  {
   "cell_type": "code",
   "execution_count": 60,
   "id": "cbdcb15e-5a91-484e-8970-0348e476152e",
   "metadata": {},
   "outputs": [],
   "source": [
    "from selenium import webdriver\n",
    "from bs4 import BeautifulSoup as bs\n",
    "import requests\n",
    "import csv\n",
    "import time\n",
    "import pandas as pd\n",
    "\n",
    "def get_url(search):\n",
    "    \"\"\"Generate a url from search area\"\"\"\n",
    "    template = \"https://www.amazon.com/s?k={}&ref=nb_sb_noss_1\"\n",
    "    search = search.replace(\" \", \"+\")\n",
    "    \n",
    "    url = template.format(search)\n",
    "    url += \"&page={}\"\n",
    "    return url\n",
    "\n",
    "def extract_record(item):\n",
    "    # description and url\n",
    "    item_tag = item.h2.a\n",
    "    desc = item_tag.text.strip()\n",
    "    url = \"https://www.amazon.com\" + item_tag.get(\"href\")\n",
    "    \n",
    "    try:\n",
    "        # price\n",
    "        price = item.find(\"span\", \"a-price\")\n",
    "        item_price = price.find(\"span\", \"a-offscreen\").text\n",
    "    except AttributeError:\n",
    "        return\n",
    "\n",
    "    try:\n",
    "        # rating and review count\n",
    "        rating = item.i.text\n",
    "        review_count = item.find(\"span\", {\"class\" : \"a-size-base\"}).text\n",
    "    except AttributeError:\n",
    "        rating = \"\"\n",
    "        review_count = \"\"\n",
    "    \n",
    "    result = (desc, item_price, rating, review_count, url)\n",
    "    return result\n",
    "\n",
    "def main(search):\n",
    "    url = \"https://www.amazon.com/\"\n",
    "    url = get_url(search)\n",
    "    # print(url)\n",
    "    \n",
    "    records = []\n",
    "    for page in range(1, 11):\n",
    "        driver = webdriver.Chrome()\n",
    "        driver.get(url.format(page))\n",
    "    \n",
    "        soup = bs(driver.page_source, \"html.parser\")\n",
    "        results = soup.find_all(\"div\", {\"data-component-type\" : \"s-search-result\"})\n",
    "        # print(len(results)\n",
    "    \n",
    "        for result in results:\n",
    "            record = extract_record(result)\n",
    "            if record:\n",
    "                records.append(record)\n",
    "    \n",
    "        driver.close()\n",
    "        \n",
    "        # save to file\n",
    "        with open(\"records.csv\", \"w\", newline=\"\", encoding=\"utf-8\") as f:\n",
    "            writer = csv.writer(f)\n",
    "            writer.writerow(['Description', \"Price\", \"Rating\", \"Review Count\", \"URL\"])\n",
    "            writer.writerows(records)\n",
    "        "
   ]
  },
  {
   "cell_type": "code",
   "execution_count": 61,
   "id": "6ed85303-c17e-4e2a-a899-eb6907f3005d",
   "metadata": {},
   "outputs": [],
   "source": [
    "main(\"lg mobiles\")"
   ]
  },
  {
   "cell_type": "code",
   "execution_count": null,
   "id": "49cd6a63-f17d-4054-9ce1-51cb49c00d20",
   "metadata": {},
   "outputs": [],
   "source": []
  }
 ],
 "metadata": {
  "kernelspec": {
   "display_name": "Python 3 (ipykernel)",
   "language": "python",
   "name": "python3"
  },
  "language_info": {
   "codemirror_mode": {
    "name": "ipython",
    "version": 3
   },
   "file_extension": ".py",
   "mimetype": "text/x-python",
   "name": "python",
   "nbconvert_exporter": "python",
   "pygments_lexer": "ipython3",
   "version": "3.9.2"
  }
 },
 "nbformat": 4,
 "nbformat_minor": 5
}
