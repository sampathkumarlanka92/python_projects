{
 "cells": [
  {
   "cell_type": "markdown",
   "id": "8557880c-c30a-4ec4-ab52-4183b5289b3c",
   "metadata": {},
   "source": [
    "# Google Search"
   ]
  },
  {
   "cell_type": "code",
   "execution_count": 4,
   "id": "56d53c9a-2130-4985-ac54-a25b24d91e71",
   "metadata": {},
   "outputs": [],
   "source": [
    "from googlesearch import search\n",
    "from random import randint\n",
    "import pandas as pd\n",
    "\n",
    "keyword = \"python\"\n",
    "\n",
    "pause_time = 2\n",
    "\n",
    "urls = []\n",
    "for url in search(keyword, tld=\"com\", num=10, start=0, stop=10, pause=pause_time):\n",
    "    pause_time = randint(1, 5)\n",
    "    # print(url)\n",
    "    urls.append(url)\n",
    "\n",
    "df = pd.DataFrame(urls, columns = [\"Google Results\",])\n",
    "df.to_excel(\"google_results.xlsx\", index=False)"
   ]
  },
  {
   "cell_type": "code",
   "execution_count": null,
   "id": "10f61af4-f8e4-43e1-9e35-1201b20d1f82",
   "metadata": {},
   "outputs": [],
   "source": []
  }
 ],
 "metadata": {
  "kernelspec": {
   "display_name": "Python 3 (ipykernel)",
   "language": "python",
   "name": "python3"
  },
  "language_info": {
   "codemirror_mode": {
    "name": "ipython",
    "version": 3
   },
   "file_extension": ".py",
   "mimetype": "text/x-python",
   "name": "python",
   "nbconvert_exporter": "python",
   "pygments_lexer": "ipython3",
   "version": "3.9.2"
  }
 },
 "nbformat": 4,
 "nbformat_minor": 5
}
