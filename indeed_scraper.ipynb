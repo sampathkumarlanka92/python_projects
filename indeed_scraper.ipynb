{
 "cells": [
  {
   "cell_type": "markdown",
   "id": "847a82c6-4df5-4dde-afef-48abe6daf4b1",
   "metadata": {},
   "source": [
    "# Indeed Job Scrapper"
   ]
  },
  {
   "cell_type": "code",
   "execution_count": 152,
   "id": "a85d4dc6-d4e4-495e-a168-a0b5013e5081",
   "metadata": {},
   "outputs": [],
   "source": [
    "import pandas as pd\n",
    "import requests\n",
    "from bs4 import BeautifulSoup as bs\n",
    "from datetime import datetime\n",
    "import csv\n",
    "\n",
    "def get_url(position, location):\n",
    "    \"\"\"Generating URL from given position and location\"\"\"\n",
    "    template = \"https://in.indeed.com/jobs?q={}&l={}\"\n",
    "    url = template.format(position, location)\n",
    "    return url\n",
    "\n",
    "def get_record(job):\n",
    "    \"\"\"Extract job data\"\"\"\n",
    "    url = \"https://in.indeed.com\"\n",
    "    # job title\n",
    "    jobtitle = job.select(\"h2 > span\")\n",
    "    job_title = jobtitle[0].get(\"title\")\n",
    "     \n",
    "    # job url\n",
    "    joburl = job.get(\"href\")\n",
    "    job_url = url + joburl\n",
    "    \n",
    "    # company name\n",
    "    compname = job.find(\"span\", {\"class\" : \"companyName\"})\n",
    "    company_name = compname.text\n",
    "    \n",
    "    # company location\n",
    "    loc = job.find(\"div\", {\"class\" : \"companyLocation\"})\n",
    "    location = loc.text\n",
    "    \n",
    "    # job salary\n",
    "    try:\n",
    "        sal = job.find(\"span\", {\"class\" : \"salary-snippet\"})\n",
    "        job_sal = sal.text\n",
    "    except AttributeError:\n",
    "        job_sal = \"\"\n",
    "    \n",
    "    # job summary\n",
    "    summary = job.find(\"div\", {\"class\" : \"job-snippet\"})\n",
    "    job_summary = summary.li.text\n",
    "    \n",
    "    # job posted on\n",
    "    dt = job.find(\"span\", {\"class\" : \"date\"})\n",
    "    postdate = dt.text\n",
    "    curdate = datetime.today().strftime(\"%d-%m-%Y\")\n",
    "    \n",
    "    record = (job_title, company_name, location, postdate, curdate, job_summary, job_sal, job_url)\n",
    "    \n",
    "    return record\n",
    "\n",
    "def main(position, location, pages):\n",
    "    \"\"\"Run Program\"\"\"\n",
    "    records = []\n",
    "    url = get_url(position, location)\n",
    "    \n",
    "    count = 1\n",
    "    while count <= pages:\n",
    "        response = requests.get(url)\n",
    "        soup = bs(response.text, \"html.parser\")\n",
    "        jobs = soup.find_all(\"a\", \"sponTapItem\")\n",
    "\n",
    "        for job in jobs:\n",
    "            record = get_record(job)\n",
    "            records.append(record)\n",
    "        \n",
    "        try:\n",
    "            nxt = soup.find(\"a\", {\"aria-label\" : \"Next\"})\n",
    "            nexturl = nxt.get(\"href\")\n",
    "            url = \"https://in.indeed.com\" + nexturl\n",
    "        except AttributeError:\n",
    "            break\n",
    "        \n",
    "        with open(\"results.csv\", \"w\", newline=\"\", encoding=\"utf-8\") as f:\n",
    "            writer = csv.writer(f)\n",
    "            writer.writerow(['JobTitle', \"Company\", \"Location\", \"PostDate\", \"Current Date\", \"Summary\", \"Salary\", \"JobURL\"])\n",
    "            writer.writerows(records)\n",
    "        \n",
    "        count += 1"
   ]
  },
  {
   "cell_type": "code",
   "execution_count": 154,
   "id": "8c284376-170b-4341-8f12-a682c3521546",
   "metadata": {},
   "outputs": [],
   "source": [
    "main(\"python\", \"Hyderabad Telangana\", 5)"
   ]
  },
  {
   "cell_type": "code",
   "execution_count": 155,
   "id": "85d72449-09eb-48b0-862d-b02566dbcf8c",
   "metadata": {},
   "outputs": [],
   "source": [
    "# each page has 15 job postings\n",
    "# 5 pages --> 5*15 = 75"
   ]
  },
  {
   "cell_type": "code",
   "execution_count": null,
   "id": "ea1947fa-55c1-49ba-b7df-9f62dd440ee5",
   "metadata": {},
   "outputs": [],
   "source": []
  }
 ],
 "metadata": {
  "kernelspec": {
   "display_name": "Python 3 (ipykernel)",
   "language": "python",
   "name": "python3"
  },
  "language_info": {
   "codemirror_mode": {
    "name": "ipython",
    "version": 3
   },
   "file_extension": ".py",
   "mimetype": "text/x-python",
   "name": "python",
   "nbconvert_exporter": "python",
   "pygments_lexer": "ipython3",
   "version": "3.9.2"
  }
 },
 "nbformat": 4,
 "nbformat_minor": 5
}
