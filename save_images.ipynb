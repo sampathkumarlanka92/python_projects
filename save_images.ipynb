{
 "cells": [
  {
   "cell_type": "markdown",
   "id": "c9c30549-cabb-42de-95e9-952eb11dc50a",
   "metadata": {},
   "source": [
    "# Scrap Images and Save"
   ]
  },
  {
   "cell_type": "code",
   "execution_count": 28,
   "id": "227d76e8-e52e-40db-8231-93f3d02c0a14",
   "metadata": {},
   "outputs": [],
   "source": [
    "from selenium import webdriver\n",
    "from bs4 import BeautifulSoup as bs\n",
    "import requests\n",
    "import os\n",
    "import csv\n",
    "import time\n",
    "import pandas as pd\n",
    "\n",
    "def folder(images):\n",
    "    try:\n",
    "        foldername = \"images\"\n",
    "        os.mkdir(foldername)\n",
    "    except:\n",
    "        print(\"Folder Exists!!\")\n",
    "    \n",
    "    \n",
    "    img_download(images, foldername)\n",
    "\n",
    "def img_download(images, foldername):\n",
    "    count = 0\n",
    "    i = 1\n",
    "    image_urls = []\n",
    "    for image in images:\n",
    "        try:\n",
    "            img_url = image[\"src\"]\n",
    "            if \".svg\" not in img_url and img_url not in image_urls:\n",
    "                image_urls.append(img_url)\n",
    "            else:\n",
    "                img_url = \"\"\n",
    "        except KeyError:\n",
    "            try:\n",
    "                img_url = image[\"data-src\"]\n",
    "                if \".svg\" not in img_url and img_url not in image_urls:\n",
    "                    image_urls.append(img_url)\n",
    "                else:\n",
    "                    img_url = \"\"\n",
    "            except:\n",
    "                pass\n",
    "        \n",
    "        try:\n",
    "            result = requests.get(img_url).content\n",
    "            try:\n",
    "                result = str(result, \"utf-8\")\n",
    "            except UnicodeDecodeError:\n",
    "                with open(f\"{foldername}/part_{i}.jpg\", \"wb+\") as f:\n",
    "                    f.write(result)\n",
    "                count += 1\n",
    "                i += 1\n",
    "        except:\n",
    "            pass\n",
    "    # print(image_urls)\n",
    "    # print(len(image_urls))\n",
    "    \n",
    "    if count == len(image_urls):\n",
    "        print(\"All Images Downloaded!\")\n",
    "    else:\n",
    "        print(f\"{count} out of {len(images)} Downloaded\")\n",
    "        \n",
    "\n",
    "def main(url):\n",
    "    response = requests.get(url)\n",
    "\n",
    "    soup = bs(response.text, \"html.parser\")\n",
    "\n",
    "    images = soup.find_all(\"img\")\n",
    "    # print(\"total images: \", len(images))\n",
    "    # print(images)\n",
    "    \n",
    "    folder(images)\n",
    "\n",
    "    "
   ]
  },
  {
   "cell_type": "code",
   "execution_count": 29,
   "id": "8b3a158b-a2b8-46e7-8428-6d15f2da6cc6",
   "metadata": {},
   "outputs": [
    {
     "name": "stdout",
     "output_type": "stream",
     "text": [
      "All Images Downloaded!\n"
     ]
    }
   ],
   "source": [
    "url = \"https://in.hotels.com/\"\n",
    "main(url)"
   ]
  },
  {
   "cell_type": "code",
   "execution_count": null,
   "id": "8a8cd3ec-1b2a-46b5-aca4-ab87e930fc77",
   "metadata": {},
   "outputs": [],
   "source": []
  },
  {
   "cell_type": "code",
   "execution_count": null,
   "id": "0287e804-dee3-4c6b-88d7-74d41d54fd6e",
   "metadata": {},
   "outputs": [],
   "source": []
  }
 ],
 "metadata": {
  "kernelspec": {
   "display_name": "Python 3 (ipykernel)",
   "language": "python",
   "name": "python3"
  },
  "language_info": {
   "codemirror_mode": {
    "name": "ipython",
    "version": 3
   },
   "file_extension": ".py",
   "mimetype": "text/x-python",
   "name": "python",
   "nbconvert_exporter": "python",
   "pygments_lexer": "ipython3",
   "version": "3.9.2"
  }
 },
 "nbformat": 4,
 "nbformat_minor": 5
}
