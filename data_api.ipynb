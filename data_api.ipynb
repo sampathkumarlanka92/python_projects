{
 "cells": [
  {
   "cell_type": "markdown",
   "id": "23858873-2fb2-455b-bce4-ed8f18fe3b1e",
   "metadata": {},
   "source": [
    "# Extract Data using API"
   ]
  },
  {
   "cell_type": "code",
   "execution_count": 8,
   "id": "a6d0c92a-9278-4175-bffc-e6481cb1f528",
   "metadata": {},
   "outputs": [
    {
     "name": "stdout",
     "output_type": "stream",
     "text": [
      "Andhra Pradesh Confirmed cases: 434\n",
      "Telangana Confirmed cases: 33\n"
     ]
    }
   ],
   "source": [
    "import requests\n",
    "import json\n",
    "\n",
    "api_url = \"https://api.covid19india.org/state_district_wise.json\"\n",
    "response = requests.get(api_url)\n",
    "d = response.text\n",
    "data = json.loads(d)\n",
    "andhra = data[\"Andhra Pradesh\"][\"districtData\"][\"Foreign Evacuees\"][\"confirmed\"]\n",
    "tel = data[\"Telangana\"][\"districtData\"][\"Foreign Evacuees\"][\"confirmed\"]\n",
    "print(f\"Andhra Pradesh Confirmed cases: {andhra}\")\n",
    "print(f\"Telangana Confirmed cases: {tel}\")"
   ]
  },
  {
   "cell_type": "code",
   "execution_count": null,
   "id": "7e5de312-4d2f-48db-afb7-80ba51d70db7",
   "metadata": {},
   "outputs": [],
   "source": []
  }
 ],
 "metadata": {
  "kernelspec": {
   "display_name": "Python 3 (ipykernel)",
   "language": "python",
   "name": "python3"
  },
  "language_info": {
   "codemirror_mode": {
    "name": "ipython",
    "version": 3
   },
   "file_extension": ".py",
   "mimetype": "text/x-python",
   "name": "python",
   "nbconvert_exporter": "python",
   "pygments_lexer": "ipython3",
   "version": "3.9.2"
  }
 },
 "nbformat": 4,
 "nbformat_minor": 5
}
