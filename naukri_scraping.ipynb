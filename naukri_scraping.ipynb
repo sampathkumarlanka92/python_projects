{
 "cells": [
  {
   "cell_type": "markdown",
   "id": "54a446a9-6931-434c-b187-047be06cdc76",
   "metadata": {},
   "source": [
    "# Naukri WebScraping"
   ]
  },
  {
   "cell_type": "code",
   "execution_count": 58,
   "id": "8b8e50dc-4785-488a-80d8-692925581526",
   "metadata": {},
   "outputs": [],
   "source": [
    "from selenium import webdriver\n",
    "from selenium.webdriver.common.keys import Keys\n",
    "from bs4 import BeautifulSoup as bs\n",
    "import requests\n",
    "import time\n",
    "import csv\n",
    "import pandas as pd\n",
    "\n",
    "def main_url(driver, s, l):\n",
    "    # identify keywords element and send keys - keywords\n",
    "    keyword = driver.find_element_by_id(\"qsb-keyword-sugg\")\n",
    "    keyword.send_keys(s)\n",
    "\n",
    "    # identify location element and send keys - location\n",
    "    location = driver.find_element_by_id(\"qsb-location-sugg\")\n",
    "    location.send_keys(l)\n",
    "    location.send_keys(Keys.RETURN)\n",
    "\n",
    "    # identify search button and press\n",
    "    # search = driver.find_element_by_class(\"search-btn\")\n",
    "    # search.send_keys(Keys.RETURN)\n",
    "\n",
    "    # sleep time\n",
    "    time.sleep(10)\n",
    "\n",
    "    # get cur url\n",
    "    cur_url = driver.current_url\n",
    "    cur_url += \"-{}\"\n",
    "    return cur_url\n",
    "\n",
    "def extract_record(job):\n",
    "    \n",
    "    jtitle = job.select(\"div > a\")\n",
    "    try:\n",
    "        job_title = jtitle[0].text        # title\n",
    "        comp_name = jtitle[1].text        # company name   \n",
    "        review_count = jtitle[2].text     # review count\n",
    "        job_url = jtitle[0].get(\"href\")   # job url\n",
    "    except IndexError:\n",
    "        job_title = jtitle[0].text        # title\n",
    "        comp_name = jtitle[1].text        # company name \n",
    "        review_count = \"No Reviews\"       # review count\n",
    "        job_url = jtitle[0].get(\"href\")   # job url\n",
    "    \n",
    "    ktitle = job.select(\"div > ul > li\")\n",
    "    exp = ktitle[0].text                   # experienc\n",
    "    sal = ktitle[1].text                   # salary\n",
    "    loc = ktitle[2].text                   # location\n",
    "    \n",
    "    \n",
    "    # print(ktitle)\n",
    "    record = (job_title, comp_name, exp, sal, loc, review_count, job_url)\n",
    "    return record\n",
    "    \n",
    "    \n",
    "def main():\n",
    "    s = input(\"Enter keyword to search: \")\n",
    "    l = input(\"Enter location to search\")\n",
    "    \n",
    "    # s = \"python\"\n",
    "    # l = \"hyderabad\"\n",
    "    \n",
    "    url = \"https://www.naukri.com/\"\n",
    "    records = []\n",
    "    \n",
    "    driver = webdriver.Chrome()\n",
    "    # url\n",
    "    driver.get(url)\n",
    "\n",
    "    url = main_url(driver, s, l)\n",
    "    # print(url)\n",
    "    # length=0\n",
    "    for page in range(1, 3):\n",
    "        driver.get(url.format(page))\n",
    "        time.sleep(10)\n",
    "        soup = bs(driver.page_source, \"html.parser\")\n",
    "        jobs = soup.find_all(\"div\", {\"class\" : \"jobTupleHeader\"})\n",
    "        # length += len(jobs)\n",
    "    # print(length)\n",
    "    \n",
    "        for job in jobs:\n",
    "            # print(job)\n",
    "            record = extract_record(job)\n",
    "            if record:\n",
    "                records.append(record)\n",
    "        \n",
    "        with open(\"naukrijobs.csv\", \"w\", newline=\"\", encoding=\"utf-8\") as f:\n",
    "            writer = csv.writer(f)\n",
    "            writer.writerow(['JobTitle', \"Company\", \"Experience\", \"Salary\", \"Location\", \"Review Count\", \"Job URL\"])\n",
    "            writer.writerows(records)\n",
    "\n",
    "    driver.close()\n",
    "    # print(records)"
   ]
  },
  {
   "cell_type": "code",
   "execution_count": 59,
   "id": "0184ea5e-1a98-459c-a6b6-8a8cf813b38b",
   "metadata": {},
   "outputs": [
    {
     "name": "stdin",
     "output_type": "stream",
     "text": [
      "Enter keyword to search:  java developer\n",
      "Enter location to search hyderabad telangana\n"
     ]
    },
    {
     "name": "stderr",
     "output_type": "stream",
     "text": [
      "C:\\Users\\admin\\AppData\\Local\\Temp/ipykernel_18736/775535640.py:11: DeprecationWarning: find_element_by_* commands are deprecated. Please use find_element() instead\n",
      "  keyword = driver.find_element_by_id(\"qsb-keyword-sugg\")\n",
      "C:\\Users\\admin\\AppData\\Local\\Temp/ipykernel_18736/775535640.py:15: DeprecationWarning: find_element_by_* commands are deprecated. Please use find_element() instead\n",
      "  location = driver.find_element_by_id(\"qsb-location-sugg\")\n"
     ]
    }
   ],
   "source": [
    "main()"
   ]
  },
  {
   "cell_type": "code",
   "execution_count": null,
   "id": "f48d8c2d-bbd0-49ef-80e5-a1d6f2ce59dd",
   "metadata": {},
   "outputs": [],
   "source": []
  }
 ],
 "metadata": {
  "kernelspec": {
   "display_name": "Python 3 (ipykernel)",
   "language": "python",
   "name": "python3"
  },
  "language_info": {
   "codemirror_mode": {
    "name": "ipython",
    "version": 3
   },
   "file_extension": ".py",
   "mimetype": "text/x-python",
   "name": "python",
   "nbconvert_exporter": "python",
   "pygments_lexer": "ipython3",
   "version": "3.9.2"
  }
 },
 "nbformat": 4,
 "nbformat_minor": 5
}
