{
 "cells": [
  {
   "cell_type": "markdown",
   "id": "c2df5945-62cd-47a4-9d18-991979aa32a4",
   "metadata": {},
   "source": [
    "# Get All Links from Webpage"
   ]
  },
  {
   "cell_type": "code",
   "execution_count": 11,
   "id": "0af1c963-1305-4fa3-acfb-abaabba36834",
   "metadata": {},
   "outputs": [],
   "source": [
    "from selenium import webdriver\n",
    "from bs4 import BeautifulSoup as bs\n",
    "import requests\n",
    "import time\n",
    "import csv\n",
    "import pandas as pd\n",
    "\n",
    "main_url = \"https://stackoverflow.com/\"\n",
    "\n",
    "driver = webdriver.Chrome()\n",
    "driver.get(main_url)\n",
    "time.sleep(3)\n",
    "\n",
    "soup = bs(driver.page_source, \"html.parser\")\n",
    "urls = soup.find_all(\"a\")\n",
    "\n",
    "driver.close()\n",
    "\n",
    "urls_all = []\n",
    "for url in urls:\n",
    "    link = url.get(\"href\")\n",
    "    try:\n",
    "        if \"https\" in link:\n",
    "            urls_all.append(link)\n",
    "    except TypeError:\n",
    "        pass\n",
    "\n",
    "with open(\"links.csv\", \"w\", newline=\"\", encoding=\"utf-8\") as f:\n",
    "    writer = csv.writer(f)\n",
    "    writer.writerow([\"Links in Stackoverflow\"])\n",
    "    writer.writerows(urls_all)"
   ]
  },
  {
   "cell_type": "code",
   "execution_count": null,
   "id": "d86b9f67-324b-4f6b-b1bf-35d039664908",
   "metadata": {},
   "outputs": [],
   "source": []
  },
  {
   "cell_type": "code",
   "execution_count": null,
   "id": "3d30a0b9-326b-4ac0-a641-2e2f09de58bb",
   "metadata": {},
   "outputs": [],
   "source": []
  },
  {
   "cell_type": "code",
   "execution_count": null,
   "id": "687b0b10-5f0b-45c5-bbbf-2d00d7964e8b",
   "metadata": {},
   "outputs": [],
   "source": []
  }
 ],
 "metadata": {
  "kernelspec": {
   "display_name": "Python 3 (ipykernel)",
   "language": "python",
   "name": "python3"
  },
  "language_info": {
   "codemirror_mode": {
    "name": "ipython",
    "version": 3
   },
   "file_extension": ".py",
   "mimetype": "text/x-python",
   "name": "python",
   "nbconvert_exporter": "python",
   "pygments_lexer": "ipython3",
   "version": "3.9.2"
  }
 },
 "nbformat": 4,
 "nbformat_minor": 5
}
