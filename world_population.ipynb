{
 "cells": [
  {
   "cell_type": "markdown",
   "id": "c88e9d81-b7ea-4176-bf3f-074e992f2284",
   "metadata": {},
   "source": [
    "# World Population Statistics by Country"
   ]
  },
  {
   "cell_type": "code",
   "execution_count": 28,
   "id": "bbda1dfb-07b7-475e-bcd7-ef1c55889ce3",
   "metadata": {},
   "outputs": [],
   "source": [
    "from selenium import webdriver\n",
    "from bs4 import BeautifulSoup as bs\n",
    "import requests\n",
    "import time\n",
    "import csv\n",
    "import pandas as pd\n",
    "\n",
    "\n",
    "def get_records(countries):\n",
    "    records = []\n",
    "\n",
    "    for i in range(0, 236):\n",
    "\n",
    "        result = countries[i].find_all(\"td\")\n",
    "        record = []\n",
    "        for r in result:\n",
    "            record = list(record)\n",
    "            record.append(r.text)\n",
    "            record = tuple(record)\n",
    "\n",
    "        records.append(record)\n",
    "    return records\n",
    "    \n",
    "def main():\n",
    "    url = \"https://www.worldometers.info/world-population/population-by-country/\"\n",
    "    \n",
    "    req = requests.get(url)\n",
    "    soup = bs(req.text, \"html.parser\")\n",
    "    \n",
    "    countries = soup.find_all(\"tr\")\n",
    "    \n",
    "    records = get_records(countries)\n",
    "    \n",
    "    # dataframe and save to .xlsx file\n",
    "    cols = [\n",
    "        \"Rank\",\n",
    "        \"Country\",\n",
    "        \"Population (2020)\",\n",
    "        \"Yearly Change\",\n",
    "        \"Net Change\",\n",
    "        \"Density (P/SqKm)\",\n",
    "        \"Land Area (SqKm)\",\n",
    "        \"Migrants (net)\",\n",
    "        \"Fert Rate\",\n",
    "        \"Med Age\",\n",
    "        \"Urban Papulation %\",\n",
    "        \"World Share\"\n",
    "    ] \n",
    "    df = pd.DataFrame(records, columns=cols)\n",
    "    df.to_excel(\"worldpopulation.xlsx\", index=False)"
   ]
  },
  {
   "cell_type": "code",
   "execution_count": 29,
   "id": "0d30ba33-ff7e-47ea-8ef8-0d692d391b36",
   "metadata": {},
   "outputs": [],
   "source": [
    "main()"
   ]
  },
  {
   "cell_type": "code",
   "execution_count": 25,
   "id": "aec2f258-204f-4dfb-b81b-f7288aafb48f",
   "metadata": {},
   "outputs": [],
   "source": []
  },
  {
   "cell_type": "code",
   "execution_count": null,
   "id": "501a9d6b-90ca-462c-9c74-74d978f82211",
   "metadata": {},
   "outputs": [],
   "source": []
  }
 ],
 "metadata": {
  "kernelspec": {
   "display_name": "Python 3 (ipykernel)",
   "language": "python",
   "name": "python3"
  },
  "language_info": {
   "codemirror_mode": {
    "name": "ipython",
    "version": 3
   },
   "file_extension": ".py",
   "mimetype": "text/x-python",
   "name": "python",
   "nbconvert_exporter": "python",
   "pygments_lexer": "ipython3",
   "version": "3.9.2"
  }
 },
 "nbformat": 4,
 "nbformat_minor": 5
}
